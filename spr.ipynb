{
 "cells": [
  {
   "cell_type": "code",
   "execution_count": 1,
   "metadata": {},
   "outputs": [],
   "source": [
    "import pandas as pd\n",
    "import os\n",
    "import glob\n",
    "from gtts import gTTS\n",
    "import gradio as gr\n",
    "from fuzzywuzzy import fuzz\n",
    "from bing_image_downloader import downloader\n",
    "import zipfile"
   ]
  },
  {
   "cell_type": "code",
   "execution_count": 2,
   "metadata": {},
   "outputs": [],
   "source": [
    "## Подготовка данных\n",
    "# Загружаем датасет с растениями парка Зарядье\n",
    "df_plants = pd.read_csv(\"C:\\Data_sets\\data-60861-2024-08-06.csv\", delimiter=';')\n",
    "# Удаляем строки, где ID равен 'Код', и сбрасываем индексы\n",
    "df_plants = df_plants[df_plants['ID'] != 'Код'].reset_index(drop=True)"
   ]
  },
  {
   "cell_type": "code",
   "execution_count": 3,
   "metadata": {},
   "outputs": [
    {
     "name": "stdout",
     "output_type": "stream",
     "text": [
      "['Picea abies', 'Pinus sylvestris', 'Querqus robur', 'Tilia cordata', 'Acer platanoides', 'Malus baccata', 'Acer saccharinum', 'Sorbus aucuparia', 'Padus avium', 'Betula pendula', 'Betula pubescens', 'Salix alba', 'Salix alba x blanda', 'Salix babylonica «Sverdlovskaja izvilistaja 2»', 'Juniperus communis Hornibrooki', 'Juniperus sabina Mas', 'Pinus pumila', 'Betula nana', 'Salix lanata', 'Salix glauca callicarpaea', 'Coryllus avellana', 'Euonimus verrucosus', 'Sambucus racemosa', 'Rosa canina', 'Spiraea chamaedryfolia', 'Salix ledebouriana x S. purpurea hybrida Sukaszewii', 'Salix purpurea', 'Viburnum opulus', 'Berberis vulgaris', 'Amygdalis nana', 'Cerassus fruticjsa', 'Lonicera tatarica', 'Acer tataricum', 'Syringa vulgaris', 'Rosa rugosa', 'Spiraea bumalda', 'Spiraea vanhouttei', 'Potentilla fruticosa', 'Caltha palustris', 'Carex capillaris', 'Carex capitata', 'Carex caespitosa', 'Cerastium alpinum', 'Dryas octopetala', 'Rubus arcticus', 'Polygonum viviparum', 'Saxifraga caespitosa', 'Sedum acre', 'Sedum spurium', 'Ajuga reptans', 'Asarum europeum', 'Sedum hybridum', 'Lusula pilosa', 'Majanthemum bifolium', 'Gymnocarpium dryopteris', 'Dryopteris dilatana', 'Antennaria dioica', 'Campanula persicifolia', 'Convallaria majalis', 'Dianthus deltoides', 'Melica nutans', 'Verinica incana', 'Pulsatilla patens', 'Aruncus vulgaris', 'Lisimachia nummularia', 'Millium effusum', 'Polygonatum multiflorum', 'Geranium sylvaticum', 'Geranium sanguineum', 'Primula elatior', 'Carex pillosa', 'Galeobdolon luteum', 'Asperula odorata', 'Brachypodium sylvaticum', 'Veronica chamaedrys', 'Myosotis sylvestris', 'Anemone nemorosa', 'Anemone ranunculoides', 'Corydalis cava', 'Corydalis solida', 'Thymus serpyllum', 'Hieracium umbellatum', 'Alopecurus pratensis', 'Dactylis glomerata', 'Festuca pratensis', 'Achillea millefolium', 'Alchemilla vulgaris', 'Campanula glomerata', 'Campanula patula', 'Centaurea jacea', 'Centaurea phrygia', 'Centaurea scabiosa', 'Cichorium intybus', 'Veronica longifolia', 'Geranium pratense', 'Glechoma hederacea', 'Hypericum maculatum', 'Leucanthemum vulgare', 'Molinia cearulea', 'Melilotus albus', 'Melilotus officinalis', 'Potentilla argentea', 'Prunella vulgaris.', 'Saponaria officinalis', 'Senecio jacobaea', 'Tanacetum vulgare', 'Calamagrostis x acutiflora', 'Trifolium repens', 'Trifolium pratense', 'Gagea lutea', 'Elymus giganteum', 'Anemone sylvestris', 'Arthemisia pontica', 'Centaurea ruthenica', 'Echinops ritro', 'Euphorbia cyparissias', 'Iris aphylla', 'Koeleria cristata', 'Linum perenne', 'Salvia nemorosa', 'Stipa capillata', 'Verbascum phoenicum', 'Veronica spicata', 'Crambe cordifolia', 'Crambe tatarica', 'Eryngium planum', 'Gypsophyla paniculata', 'Paeonia tenuifolia', 'Clematis integrifolia', 'Tulipa biebersteiniana', 'Iris pseudacorus', 'Iris sibirica', 'Eupatorium purpureum', 'Lithrum salicaria', 'Myosotis sylvestris.', 'Pelasites ampulus', 'Trollius europaeus', 'Polygonum bistorta', 'Lichnis flos-cuculi', 'Phalaris arundinaceae', 'Astilbe hybrida', 'Hemerocalis hybrida', 'Deschampsia caespitosa', 'Thelypteris palustris', 'Ranunculus repens pleniflorus', 'Filipendula ulmaria', 'Sagittaria latifolia', 'Acorus calamus', 'Typha laxmannii', 'Carex paniculata', 'Bolboschoenus maritimus', 'Butomus umbellatus', 'Menyanthes trifoliata', 'Nyphar lutea ssp.lutea', 'Nymphaea candida']\n"
     ]
    }
   ],
   "source": [
    "# Формируем список латинских наименований растений\n",
    "latin_names = df_plants['LatinName'].tolist()\n",
    "\n",
    "print(latin_names)"
   ]
  },
  {
   "cell_type": "code",
   "execution_count": null,
   "metadata": {},
   "outputs": [],
   "source": [
    "## Формируем архив с картинками растений\n",
    "# Скачиваем картинки для каждого латинского наименования растения\n",
    "for latin_name in latin_names:\n",
    "    downloader.download(\n",
    "        latin_name,\n",
    "        limit=3,  # количество картинок для каждого растения\n",
    "        output_dir='plant_images',\n",
    "        adult_filter_off=True,\n",
    "        force_replace=False,\n",
    "        timeout=60\n",
    "    )\n",
    "\n",
    "# Формируем zip архив\n",
    "with zipfile.ZipFile('plant_images.zip', 'w') as zipf:\n",
    "    for latin_name in latin_names:\n",
    "        image_dir = f'plant_images/{latin_name}'\n",
    "        if os.path.exists(image_dir):\n",
    "            for image in os.listdir(image_dir):\n",
    "                image_path = os.path.join(image_dir, image)\n",
    "                zipf.write(image_path, f'{latin_name}/{image}')"
   ]
  },
  {
   "cell_type": "code",
   "execution_count": 5,
   "metadata": {},
   "outputs": [
    {
     "name": "stdout",
     "output_type": "stream",
     "text": [
      "Running on local URL:  http://127.0.0.1:7860\n",
      "Running on public URL: https://ce44ec4ff999c4d263.gradio.live\n",
      "\n",
      "This share link expires in 72 hours. For free permanent hosting and GPU upgrades, run `gradio deploy` from Terminal to deploy to Spaces (https://huggingface.co/spaces)\n"
     ]
    },
    {
     "data": {
      "text/html": [
       "<div><iframe src=\"https://ce44ec4ff999c4d263.gradio.live\" width=\"100%\" height=\"500\" allow=\"autoplay; camera; microphone; clipboard-read; clipboard-write;\" frameborder=\"0\" allowfullscreen></iframe></div>"
      ],
      "text/plain": [
       "<IPython.core.display.HTML object>"
      ]
     },
     "metadata": {},
     "output_type": "display_data"
    },
    {
     "data": {
      "text/plain": []
     },
     "execution_count": 5,
     "metadata": {},
     "output_type": "execute_result"
    }
   ],
   "source": [
    "# Код для поиска растений и вывода информации по ним\n",
    "\n",
    "def text_to_speech(text):\n",
    "    \"\"\"Преобразует текст в речь и возвращает путь к аудиофайлу\"\"\"\n",
    "    tts = gTTS(text=text, lang='ru')  # Создаем объект gTTS с текстом и языком\n",
    "    tts.save('response.mp3')  # Сохраняем аудиофайл\n",
    "    return 'response.mp3'  # Возвращаем путь к аудиофайлу\n",
    "\n",
    "def get_plant_images(latin_name):\n",
    "    \"\"\"Получает пути к изображениям для данного латинского названия растения\"\"\"\n",
    "    image_dir = f'C:/Users/DS/Desktop/Зарядье/zaryadye_bot/plant_images/{latin_name}'  # Путь к папке с изображениями\n",
    "    if os.path.exists(image_dir):  # Проверяем, существует ли папка\n",
    "        return sorted(glob.glob(f'{image_dir}/Image_*.jpg'))  # Возвращаем отсортированные пути к изображениям\n",
    "    return []  # Если папка не существует, возвращаем пустой список\n",
    "\n",
    "def get_plant_info(question, speak=True):\n",
    "    \"\"\"Обрабатывает вопросы пользователя и возвращает информацию о растениях\"\"\"\n",
    "    # Проверка на наличие запроса о хвойных растениях\n",
    "    if 'хвойные' in question.lower():\n",
    "        conifer_plants = df_plants[df_plants['LandscapingZone'].str.contains('Хвойный', na=False)]\n",
    "        response = f\"Хвойные растения в парке:\\n\" + \"\\n\".join(conifer_plants['Name'].tolist())\n",
    "        return response, text_to_speech(response) if speak else None, []\n",
    "\n",
    "    # Проверка на запрос всех растений\n",
    "    if 'все растения' in question.lower() or 'список растений' in question.lower():\n",
    "        response = \"Растения в парке:\\n\" + \"\\n\".join(df_plants['Name'].tolist())\n",
    "        return response, text_to_speech(response) if speak else None, []\n",
    "\n",
    "    # Поиск растения с использованием fuzzy matching\n",
    "    max_ratio = 0\n",
    "    matched_name = None\n",
    "    for name in df_plants['Name'].unique():\n",
    "        ratio = fuzz.partial_ratio(name.lower(), question.lower())  # Вычисляем коэффициент схожести\n",
    "        if ratio > max_ratio and ratio > 70:  # Проверяем, если коэффициент выше 70\n",
    "            max_ratio = ratio\n",
    "            matched_name = name  # Сохраняем найденное название\n",
    "\n",
    "    # Если найдено соответствующее название растения\n",
    "    if matched_name:\n",
    "        plant = df_plants[df_plants['Name'] == matched_name].iloc[0]  # Получаем информацию о растении\n",
    "        latin_name = plant['LatinName']  # Получаем латинское название\n",
    "        images = get_plant_images(latin_name)  # Получаем изображения растения\n",
    "\n",
    "        # Определяем ответ в зависимости от вопроса\n",
    "        if any(word in question.lower() for word in ['где', 'расположен', 'растет']):\n",
    "            response = f\"{matched_name} расположен в {plant['LocationPlace']}\"\n",
    "        elif any(word in question.lower() for word in ['когда', 'цветет', 'цветение']):\n",
    "            response = f\"{matched_name} цветет в период: {plant['ProsperityPeriod']}\"\n",
    "        elif 'латинск' in question.lower():\n",
    "            response = f\"Латинское название {matched_name}: {plant['LatinName']}\"\n",
    "        else:\n",
    "            response = f\"{plant['Description']}\"  # Возвращаем описание растения\n",
    "\n",
    "        return response, text_to_speech(response) if speak else None, images\n",
    "\n",
    "    # Проверка на запрос о растениях смешанного леса\n",
    "    if 'смешанный лес' in question.lower():\n",
    "        mixed_forest = df_plants[df_plants['LandscapingZone'].str.contains('Смешанный', na=False)]\n",
    "        response = f\"Растения смешанного леса:\\n\" + \"\\n\".join(mixed_forest['Name'].tolist())\n",
    "        return response, text_to_speech(response) if speak else None, []\n",
    "\n",
    "    # Если вопрос не распознан\n",
    "    response = \"Уточните вопрос. Вы можете спросить о конкретном растении или группе растений.\"\n",
    "    return response, text_to_speech(response) if speak else None, []\n",
    "\n",
    "# Создаем интерфейс Gradio\n",
    "iface = gr.Interface(\n",
    "    fn=get_plant_info,  # Функция для обработки вопросов\n",
    "    inputs=[\n",
    "        gr.Textbox(lines=2, placeholder=\"Задайте вопрос о растениях парка\"),  # Поле для ввода вопроса\n",
    "        gr.Checkbox(label=\"Озвучить ответ\", value=True)  # Чекбокс для выбора озвучивания ответа\n",
    "    ],\n",
    "    outputs=[\n",
    "        gr.Textbox(label=\"Текстовый ответ\"),  # Поле для текстового ответа\n",
    "        gr.Audio(label=\"Аудио ответ\"),  # Поле для аудиоответа\n",
    "        gr.Gallery(label=\"Изображения растения\")  # Галерея для отображения изображений\n",
    "    ],\n",
    "    title=\"🌳 Справочник растений парка Зарядье\",  # Заголовок приложения\n",
    "    description=\"Задавайте вопросы о растениях или группах растений. Для каждого растения доступны фотографии.\",  # Описание приложения\n",
    "    examples=[\n",
    "        [\"Какие хвойные растения есть в парке?\", True],\n",
    "        [\"Где растет Ель?\", True],\n",
    "        [\"Покажи все растения смешанного леса\", True],\n",
    "        [\"Когда цветет Липа?\", True],\n",
    "        [\"Расскажи про Дуб\", True],\n",
    "        [\"Список всех растений\", True]\n",
    "    ]  # Примеры вопросов для интерфейса\n",
    ")\n",
    "\n",
    "iface.launch(share=True)  # Запускаем интерфейс и делимся ссылкой"
   ]
  }
 ],
 "metadata": {
  "kernelspec": {
   "display_name": "Python 3",
   "language": "python",
   "name": "python3"
  },
  "language_info": {
   "codemirror_mode": {
    "name": "ipython",
    "version": 3
   },
   "file_extension": ".py",
   "mimetype": "text/x-python",
   "name": "python",
   "nbconvert_exporter": "python",
   "pygments_lexer": "ipython3",
   "version": "3.9.10"
  }
 },
 "nbformat": 4,
 "nbformat_minor": 2
}
